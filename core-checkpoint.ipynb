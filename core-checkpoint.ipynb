{
 "cells": [
  {
   "cell_type": "markdown",
   "metadata": {},
   "source": [
    "# Initialisation"
   ]
  },
  {
   "cell_type": "code",
   "execution_count": 6,
   "metadata": {
    "scrolled": true
   },
   "outputs": [],
   "source": [
    "# Important packages\n",
    "import pandas as pd\n",
    "import numpy as np\n",
    "import ta\n",
    "import matplotlib.pyplot as plt\n",
    "import matplotlib as mpl\n",
    "mpl.style.use('seaborn')\n",
    "\n",
    "from scipy.stats import linregress\n",
    "\n",
    "# Charting stuff\n",
    "#import plotly\n",
    "#import plotly.express as px\n",
    "#import plotly.graph_objects as go\n",
    "#import cufflinks as cf\n",
    "#from datetime import datetime"
   ]
  },
  {
   "cell_type": "code",
   "execution_count": 7,
   "metadata": {},
   "outputs": [
    {
     "data": {
      "text/plain": [
       "5180"
      ]
     },
     "execution_count": 7,
     "metadata": {},
     "output_type": "execute_result"
    }
   ],
   "source": [
    "# Load the raw data\n",
    "df_long = pd.read_csv('./FX Data/GBPUSD.csv', names=['date','open','high','low','close'])\n",
    "len(df_long)"
   ]
  },
  {
   "cell_type": "markdown",
   "metadata": {},
   "source": [
    "## Important!\n",
    "Run the cell below to import the dataframe with features so that you can save computational time.\n",
    "You can then skip to the classifer part right away as the features have already been added.\n",
    "\n",
    "You need to have the pyarrow package."
   ]
  },
  {
   "cell_type": "code",
   "execution_count": 9,
   "metadata": {},
   "outputs": [],
   "source": [
    "df = pd.read_parquet('./Dataframes/df.parquet.gzip')"
   ]
  },
  {
   "cell_type": "markdown",
   "metadata": {},
   "source": [
    "Run this if you want to create a dataframe with new features."
   ]
  },
  {
   "cell_type": "code",
   "execution_count": null,
   "metadata": {},
   "outputs": [],
   "source": [
    "# Limit to small case for easy testing, will change back to whole dataframe eventually\n",
    "df = df_long"
   ]
  },
  {
   "cell_type": "markdown",
   "metadata": {},
   "source": [
    "# Adding features\n",
    "## Technical Analysis features"
   ]
  },
  {
   "cell_type": "code",
   "execution_count": 4,
   "metadata": {},
   "outputs": [],
   "source": [
    "df['wclose'] = (df['close']*2+df['high']+df['low'])/4"
   ]
  },
  {
   "cell_type": "code",
   "execution_count": 5,
   "metadata": {},
   "outputs": [],
   "source": [
    "for i in range(1,len(df)):\n",
    "    if df.at[i,'high'] > df.at[i-1,'high']:\n",
    "        df.at[i,'delta'] = 1\n",
    "    else:\n",
    "        df.at[i,'delta'] = 0"
   ]
  },
  {
   "cell_type": "code",
   "execution_count": 6,
   "metadata": {},
   "outputs": [],
   "source": [
    "def add_SO(i):\n",
    "    ind_SO = ta.momentum.StochasticOscillator(high=df['high'],low=df['low'],close=df['close'],n=i)\n",
    "    name = 'so_%s' %(i)\n",
    "    df[name] = ind_SO.stoch()\n",
    "    return\n",
    "\n",
    "for i in [3,4,5,8,9,10]:\n",
    "    add_SO(i)"
   ]
  },
  {
   "cell_type": "code",
   "execution_count": 7,
   "metadata": {},
   "outputs": [],
   "source": [
    "def add_WR(i):\n",
    "    ind_WR = ta.momentum.WilliamsRIndicator(high=df['high'],low=df['low'],close=df['close'],lbp=i)\n",
    "    name = 'wr_%s' %(i)\n",
    "    df[name] = ind_WR.wr()\n",
    "    return\n",
    "\n",
    "for i in [6,7,8,9,10]:\n",
    "    add_WR(i)"
   ]
  },
  {
   "cell_type": "code",
   "execution_count": 8,
   "metadata": {},
   "outputs": [],
   "source": [
    "def add_ROC(i):\n",
    "    ind_ROC = ta.momentum.ROCIndicator(close=df['close'],n=i)\n",
    "    name = 'roc_%s' %(i)\n",
    "    df[name] = ind_ROC.roc()\n",
    "    return\n",
    "\n",
    "for i in [12,13,14,15]:\n",
    "    add_ROC(i)"
   ]
  },
  {
   "cell_type": "code",
   "execution_count": 9,
   "metadata": {},
   "outputs": [],
   "source": [
    "def add_WCP(i):\n",
    "    ind_WCP = ta.trend.EMAIndicator(close=df['wclose'],n=i)\n",
    "    name = 'wcp_%s' %(i)\n",
    "    df[name] = ind_WCP.ema_indicator()\n",
    "    return\n",
    "\n",
    "add_WCP(15)"
   ]
  },
  {
   "cell_type": "code",
   "execution_count": 10,
   "metadata": {},
   "outputs": [],
   "source": [
    "def add_MACD(i,j):\n",
    "    ind_MACD = ta.trend.MACD(close=df['close'],n_fast=i,n_slow=j)\n",
    "    name ='macd_%s_%s' %(i,j)\n",
    "    df[name] = ind_MACD.macd()\n",
    "    return\n",
    "\n",
    "add_MACD(15,30)  "
   ]
  },
  {
   "cell_type": "code",
   "execution_count": 11,
   "metadata": {},
   "outputs": [],
   "source": [
    "def add_CCI(i):\n",
    "    ind_CCI = ta.trend.cci(high=df['high'],low=df['low'],close=df['close'],n=i)\n",
    "    name = 'cci_%s' %(i)\n",
    "    df[name] = ind_CCI\n",
    "    return\n",
    "\n",
    "add_CCI(15)"
   ]
  },
  {
   "cell_type": "markdown",
   "metadata": {},
   "source": [
    "## Signal Processing features"
   ]
  },
  {
   "cell_type": "code",
   "execution_count": 12,
   "metadata": {},
   "outputs": [],
   "source": [
    "for i in range(1,len(df)):\n",
    "    df.at[i,'hi_avg_2'] =  (df.at[i-1,'high'] + df.at[i,'high'])/2\n",
    "    df.at[i,'lo_avg_2'] =  (df.at[i-1,'low'] + df.at[i,'low'])/2\n",
    "    df.at[i,'hilo_avg_2'] = (df.at[i,'hi_avg_2'] + df.at[i,'lo_avg_2'])/2\n",
    "    df.at[i,'hilo_avg'] = (df.at[i,'high'] + df.at[i,'low'])/2"
   ]
  },
  {
   "cell_type": "code",
   "execution_count": 13,
   "metadata": {},
   "outputs": [
    {
     "name": "stderr",
     "output_type": "stream",
     "text": [
      "c:\\program files\\python37\\lib\\site-packages\\scipy\\stats\\_distn_infrastructure.py:901: RuntimeWarning: invalid value encountered in greater\n",
      "  return (a < x) & (x < b)\n",
      "c:\\program files\\python37\\lib\\site-packages\\scipy\\stats\\_distn_infrastructure.py:901: RuntimeWarning: invalid value encountered in less\n",
      "  return (a < x) & (x < b)\n",
      "c:\\program files\\python37\\lib\\site-packages\\scipy\\stats\\_distn_infrastructure.py:1892: RuntimeWarning: invalid value encountered in less_equal\n",
      "  cond2 = cond0 & (x <= _a)\n"
     ]
    }
   ],
   "source": [
    "def add_slope(i):\n",
    "    for j in range(i-1,len(df)):\n",
    "        a=df['high'][j-(i-1):j+1]\n",
    "        b=[]\n",
    "        for k in range(i):\n",
    "            b.append(k)\n",
    "        name = 'slope_%s' %(i)\n",
    "        df.at[j,name] = linregress(a,b).slope\n",
    "    \n",
    "for i in [3,4,5,10,20,30]:\n",
    "    add_slope(i)"
   ]
  },
  {
   "cell_type": "code",
   "execution_count": 10,
   "metadata": {},
   "outputs": [],
   "source": [
    "df = df[50:]"
   ]
  },
  {
   "cell_type": "code",
   "execution_count": 11,
   "metadata": {},
   "outputs": [
    {
     "data": {
      "text/plain": [
       "(5080, 35)"
      ]
     },
     "execution_count": 11,
     "metadata": {},
     "output_type": "execute_result"
    }
   ],
   "source": [
    "df.shape"
   ]
  },
  {
   "cell_type": "markdown",
   "metadata": {},
   "source": [
    "## Run the cell below if you want to save the dataframe for future use"
   ]
  },
  {
   "cell_type": "code",
   "execution_count": 21,
   "metadata": {},
   "outputs": [],
   "source": [
    "df.to_parquet('./Dataframes/df.parquet.gzip',compression='gzip')"
   ]
  },
  {
   "cell_type": "markdown",
   "metadata": {},
   "source": [
    "# Classifiers"
   ]
  },
  {
   "cell_type": "markdown",
   "metadata": {},
   "source": [
    "<img src=\"files/Images/algo cheat sheet.png\">"
   ]
  },
  {
   "cell_type": "code",
   "execution_count": 33,
   "metadata": {},
   "outputs": [],
   "source": [
    "from sklearn.svm import SVC\n",
    "from sklearn.ensemble import RandomForestClassifier\n",
    "\n",
    "from sklearn.metrics import accuracy_score"
   ]
  },
  {
   "cell_type": "code",
   "execution_count": 24,
   "metadata": {},
   "outputs": [],
   "source": [
    "def get_feature_matrix(start_ind, end_ind):\n",
    "    return df[start_ind:end_ind].drop(columns=['date','open','high','low','close','wclose','delta'])\n",
    "def get_training_labels(start_ind, end_ind):\n",
    "    return df[start_ind:end_ind]['delta']"
   ]
  },
  {
   "cell_type": "markdown",
   "metadata": {},
   "source": [
    "## Random Forest Classifier"
   ]
  },
  {
   "cell_type": "code",
   "execution_count": 25,
   "metadata": {},
   "outputs": [],
   "source": [
    "# \"feature matrix a\" and \"training labels a\"\n",
    "ft_mtx_a = get_feature_matrix(0,2000)\n",
    "tr_lbl_a = get_training_labels(0,2000)"
   ]
  },
  {
   "cell_type": "code",
   "execution_count": 28,
   "metadata": {},
   "outputs": [],
   "source": [
    "# \"prediction matrix a\" and \"real label a\"\n",
    "pdr_mtx_a = get_feature_matrix(2000,2250)\n",
    "rl_lbl_a = get_training_labels(2000,2250)"
   ]
  },
  {
   "cell_type": "code",
   "execution_count": 37,
   "metadata": {},
   "outputs": [
    {
     "data": {
      "text/plain": [
       "RandomForestClassifier(bootstrap=True, ccp_alpha=0.0, class_weight=None,\n",
       "                       criterion='gini', max_depth=2, max_features='auto',\n",
       "                       max_leaf_nodes=None, max_samples=None,\n",
       "                       min_impurity_decrease=0.0, min_impurity_split=None,\n",
       "                       min_samples_leaf=1, min_samples_split=2,\n",
       "                       min_weight_fraction_leaf=0.0, n_estimators=100,\n",
       "                       n_jobs=None, oob_score=False, random_state=0, verbose=0,\n",
       "                       warm_start=False)"
      ]
     },
     "execution_count": 37,
     "metadata": {},
     "output_type": "execute_result"
    }
   ],
   "source": [
    "clf_frst = RandomForestClassifier(max_depth=2, random_state=0)\n",
    "clf_frst.fit(ft_mtx_a, tr_lbl_a)"
   ]
  },
  {
   "cell_type": "code",
   "execution_count": 38,
   "metadata": {},
   "outputs": [
    {
     "data": {
      "text/plain": [
       "0.804"
      ]
     },
     "execution_count": 38,
     "metadata": {},
     "output_type": "execute_result"
    }
   ],
   "source": [
    "accuracy_score(rl_lbl_a,clf_frst.predict(pdr_mtx_a))"
   ]
  },
  {
   "cell_type": "code",
   "execution_count": 39,
   "metadata": {},
   "outputs": [
    {
     "data": {
      "text/plain": [
       "array([0., 0., 0., 0., 0., 0., 1., 1., 1., 1., 1., 0., 1., 0., 0., 0., 0.,\n",
       "       0., 0., 0., 1., 0., 1., 0., 0., 0., 0., 0., 0., 0., 0., 0., 1., 1.,\n",
       "       1., 0., 0., 0., 0., 0., 0., 0., 0., 0., 0., 0., 1., 1., 1., 0., 0.,\n",
       "       1., 1., 1., 1., 1., 1., 1., 1., 0., 0., 0., 0., 0., 0., 0., 1., 1.,\n",
       "       1., 1., 0., 0., 0., 1., 1., 1., 1., 1., 1., 0., 0., 0., 1., 1., 1.,\n",
       "       1., 0., 1., 1., 1., 0., 0., 0., 0., 0., 0., 1., 1., 1., 0., 0., 0.,\n",
       "       0., 1., 1., 0., 0., 0., 0., 0., 1., 0., 0., 1., 1., 1., 1., 0., 0.,\n",
       "       0., 1., 0., 0., 0., 0., 0., 0., 0., 0., 0., 1., 0., 0., 0., 1., 1.,\n",
       "       1., 1., 1., 1., 1., 0., 1., 0., 1., 0., 0., 0., 0., 1., 1., 0., 0.,\n",
       "       0., 0., 1., 1., 0., 1., 1., 1., 0., 1., 1., 1., 1., 1., 1., 0., 0.,\n",
       "       0., 0., 1., 1., 1., 1., 1., 1., 0., 0., 0., 0., 0., 0., 0., 0., 0.,\n",
       "       0., 0., 0., 0., 0., 0., 0., 0., 0., 0., 0., 0., 0., 0., 0., 0., 1.,\n",
       "       0., 0., 0., 0., 0., 0., 0., 0., 0., 0., 0., 0., 0., 0., 0., 1., 1.,\n",
       "       1., 1., 1., 1., 1., 1., 0., 1., 0., 0., 0., 0., 0., 0., 0., 0., 0.,\n",
       "       0., 0., 1., 1., 1., 0., 0., 0., 0., 0., 0., 0.])"
      ]
     },
     "execution_count": 39,
     "metadata": {},
     "output_type": "execute_result"
    }
   ],
   "source": [
    "clf_frst.predict(pdr_mtx_a)"
   ]
  },
  {
   "cell_type": "markdown",
   "metadata": {},
   "source": [
    "## Support Vector Machine Classifier"
   ]
  },
  {
   "cell_type": "code",
   "execution_count": null,
   "metadata": {},
   "outputs": [],
   "source": []
  },
  {
   "cell_type": "markdown",
   "metadata": {},
   "source": [
    "# Charts (Not using these yet)"
   ]
  },
  {
   "cell_type": "code",
   "execution_count": 7,
   "metadata": {},
   "outputs": [],
   "source": [
    "#fig_cdls = go.Figure(data=[go.Candlestick(x=df['Date'][0:100],open=df['Open'],high=df['High'],low=df['Low'],close=df['Close'])])\n",
    "#fig_cdls.show()"
   ]
  },
  {
   "cell_type": "code",
   "execution_count": 8,
   "metadata": {},
   "outputs": [],
   "source": [
    "#fig = px.line(df[0:500],x='Date',y='Close')\n",
    "#fig.show()"
   ]
  },
  {
   "cell_type": "code",
   "execution_count": 9,
   "metadata": {},
   "outputs": [],
   "source": [
    "# ind_EMA = ta.trend.EMAIndicator(close=df['Close'],n=10,fillna=False)\n",
    "\n",
    "# df['EMA'] = ind_EMA.ema_indicator()"
   ]
  },
  {
   "cell_type": "code",
   "execution_count": 12,
   "metadata": {},
   "outputs": [],
   "source": [
    "# fig_ind = go.Figure()\n",
    "\n",
    "# fig_ind.update_layout(xaxis_range=[0,50],\n",
    "#                       yaxis_range=(1.5,1.7),\n",
    "#                  title_text = \"Close and EMA\")\n",
    "\n",
    "# fig_ind.add_trace(go.Scatter(\n",
    "#                     x=df['Date'],\n",
    "#                     y=df['Close'],\n",
    "#                     name='Close',\n",
    "#                     line_color='dimgray',\n",
    "#                     opacity=0.4))\n",
    "\n",
    "# fig_ind.add_trace(go.Scatter(\n",
    "#                     x=df['Date'],\n",
    "#                     y=df['EMA'],\n",
    "#                     name='EMA',\n",
    "#                     line_color='deepskyblue',\n",
    "#                     opacity=0.4))\n",
    "\n",
    "# fig_ind.show()"
   ]
  },
  {
   "cell_type": "code",
   "execution_count": 14,
   "metadata": {},
   "outputs": [
    {
     "data": {
      "text/html": [
       "<div>\n",
       "<style scoped>\n",
       "    .dataframe tbody tr th:only-of-type {\n",
       "        vertical-align: middle;\n",
       "    }\n",
       "\n",
       "    .dataframe tbody tr th {\n",
       "        vertical-align: top;\n",
       "    }\n",
       "\n",
       "    .dataframe thead th {\n",
       "        text-align: right;\n",
       "    }\n",
       "</style>\n",
       "<table border=\"1\" class=\"dataframe\">\n",
       "  <thead>\n",
       "    <tr style=\"text-align: right;\">\n",
       "      <th></th>\n",
       "      <th>date</th>\n",
       "      <th>open</th>\n",
       "      <th>high</th>\n",
       "      <th>low</th>\n",
       "      <th>close</th>\n",
       "      <th>wclose</th>\n",
       "      <th>delta</th>\n",
       "      <th>so_3</th>\n",
       "      <th>so_4</th>\n",
       "      <th>so_5</th>\n",
       "      <th>...</th>\n",
       "      <th>hi_avg_2</th>\n",
       "      <th>lo_avg_2</th>\n",
       "      <th>hilo_avg_2</th>\n",
       "      <th>hilo_avg</th>\n",
       "      <th>slope_3</th>\n",
       "      <th>slope_4</th>\n",
       "      <th>slope_5</th>\n",
       "      <th>slope_10</th>\n",
       "      <th>slope_20</th>\n",
       "      <th>slope_30</th>\n",
       "    </tr>\n",
       "  </thead>\n",
       "  <tbody>\n",
       "    <tr>\n",
       "      <th>100</th>\n",
       "      <td>22/5/2000</td>\n",
       "      <td>1.4863</td>\n",
       "      <td>1.4958</td>\n",
       "      <td>1.4826</td>\n",
       "      <td>1.4913</td>\n",
       "      <td>1.490250</td>\n",
       "      <td>1.0</td>\n",
       "      <td>75.117371</td>\n",
       "      <td>69.565217</td>\n",
       "      <td>50.314465</td>\n",
       "      <td>...</td>\n",
       "      <td>1.49310</td>\n",
       "      <td>1.47895</td>\n",
       "      <td>1.486025</td>\n",
       "      <td>1.48920</td>\n",
       "      <td>-35.169988</td>\n",
       "      <td>-196.008298</td>\n",
       "      <td>-207.748685</td>\n",
       "      <td>-170.076397</td>\n",
       "      <td>-182.915624</td>\n",
       "      <td>-241.421900</td>\n",
       "    </tr>\n",
       "    <tr>\n",
       "      <th>101</th>\n",
       "      <td>23/5/2000</td>\n",
       "      <td>1.4913</td>\n",
       "      <td>1.4938</td>\n",
       "      <td>1.4731</td>\n",
       "      <td>1.4768</td>\n",
       "      <td>1.480125</td>\n",
       "      <td>0.0</td>\n",
       "      <td>16.299559</td>\n",
       "      <td>15.744681</td>\n",
       "      <td>14.682540</td>\n",
       "      <td>...</td>\n",
       "      <td>1.49480</td>\n",
       "      <td>1.47785</td>\n",
       "      <td>1.486325</td>\n",
       "      <td>1.48345</td>\n",
       "      <td>228.085868</td>\n",
       "      <td>-65.473592</td>\n",
       "      <td>-267.117314</td>\n",
       "      <td>-184.167125</td>\n",
       "      <td>-184.105253</td>\n",
       "      <td>-236.525170</td>\n",
       "    </tr>\n",
       "    <tr>\n",
       "      <th>102</th>\n",
       "      <td>24/5/2000</td>\n",
       "      <td>1.4768</td>\n",
       "      <td>1.4802</td>\n",
       "      <td>1.4686</td>\n",
       "      <td>1.4735</td>\n",
       "      <td>1.473950</td>\n",
       "      <td>0.0</td>\n",
       "      <td>18.014706</td>\n",
       "      <td>18.014706</td>\n",
       "      <td>17.500000</td>\n",
       "      <td>...</td>\n",
       "      <td>1.48700</td>\n",
       "      <td>1.47085</td>\n",
       "      <td>1.478925</td>\n",
       "      <td>1.47440</td>\n",
       "      <td>-108.253146</td>\n",
       "      <td>-112.982602</td>\n",
       "      <td>-164.621036</td>\n",
       "      <td>-198.948711</td>\n",
       "      <td>-184.135750</td>\n",
       "      <td>-228.691680</td>\n",
       "    </tr>\n",
       "    <tr>\n",
       "      <th>103</th>\n",
       "      <td>25/5/2000</td>\n",
       "      <td>1.4735</td>\n",
       "      <td>1.4801</td>\n",
       "      <td>1.4667</td>\n",
       "      <td>1.4708</td>\n",
       "      <td>1.472100</td>\n",
       "      <td>0.0</td>\n",
       "      <td>15.129151</td>\n",
       "      <td>14.089347</td>\n",
       "      <td>14.089347</td>\n",
       "      <td>...</td>\n",
       "      <td>1.48015</td>\n",
       "      <td>1.46765</td>\n",
       "      <td>1.473900</td>\n",
       "      <td>1.47340</td>\n",
       "      <td>-110.288198</td>\n",
       "      <td>-140.102249</td>\n",
       "      <td>-161.988974</td>\n",
       "      <td>-193.175861</td>\n",
       "      <td>-188.123439</td>\n",
       "      <td>-224.019419</td>\n",
       "    </tr>\n",
       "    <tr>\n",
       "      <th>104</th>\n",
       "      <td>26/5/2000</td>\n",
       "      <td>1.4708</td>\n",
       "      <td>1.4927</td>\n",
       "      <td>1.4702</td>\n",
       "      <td>1.4895</td>\n",
       "      <td>1.485475</td>\n",
       "      <td>1.0</td>\n",
       "      <td>87.692308</td>\n",
       "      <td>84.132841</td>\n",
       "      <td>78.350515</td>\n",
       "      <td>...</td>\n",
       "      <td>1.48640</td>\n",
       "      <td>1.46845</td>\n",
       "      <td>1.477425</td>\n",
       "      <td>1.48145</td>\n",
       "      <td>119.040061</td>\n",
       "      <td>-9.871095</td>\n",
       "      <td>-83.449352</td>\n",
       "      <td>-197.293609</td>\n",
       "      <td>-195.963969</td>\n",
       "      <td>-223.984239</td>\n",
       "    </tr>\n",
       "  </tbody>\n",
       "</table>\n",
       "<p>5 rows × 35 columns</p>\n",
       "</div>"
      ],
      "text/plain": [
       "          date    open    high     low   close    wclose  delta       so_3  \\\n",
       "100  22/5/2000  1.4863  1.4958  1.4826  1.4913  1.490250    1.0  75.117371   \n",
       "101  23/5/2000  1.4913  1.4938  1.4731  1.4768  1.480125    0.0  16.299559   \n",
       "102  24/5/2000  1.4768  1.4802  1.4686  1.4735  1.473950    0.0  18.014706   \n",
       "103  25/5/2000  1.4735  1.4801  1.4667  1.4708  1.472100    0.0  15.129151   \n",
       "104  26/5/2000  1.4708  1.4927  1.4702  1.4895  1.485475    1.0  87.692308   \n",
       "\n",
       "          so_4       so_5  ...  hi_avg_2  lo_avg_2  hilo_avg_2  hilo_avg  \\\n",
       "100  69.565217  50.314465  ...   1.49310   1.47895    1.486025   1.48920   \n",
       "101  15.744681  14.682540  ...   1.49480   1.47785    1.486325   1.48345   \n",
       "102  18.014706  17.500000  ...   1.48700   1.47085    1.478925   1.47440   \n",
       "103  14.089347  14.089347  ...   1.48015   1.46765    1.473900   1.47340   \n",
       "104  84.132841  78.350515  ...   1.48640   1.46845    1.477425   1.48145   \n",
       "\n",
       "        slope_3     slope_4     slope_5    slope_10    slope_20    slope_30  \n",
       "100  -35.169988 -196.008298 -207.748685 -170.076397 -182.915624 -241.421900  \n",
       "101  228.085868  -65.473592 -267.117314 -184.167125 -184.105253 -236.525170  \n",
       "102 -108.253146 -112.982602 -164.621036 -198.948711 -184.135750 -228.691680  \n",
       "103 -110.288198 -140.102249 -161.988974 -193.175861 -188.123439 -224.019419  \n",
       "104  119.040061   -9.871095  -83.449352 -197.293609 -195.963969 -223.984239  \n",
       "\n",
       "[5 rows x 35 columns]"
      ]
     },
     "execution_count": 14,
     "metadata": {},
     "output_type": "execute_result"
    }
   ],
   "source": [
    "df.head()\n"
   ]
  },
  {
   "cell_type": "code",
   "execution_count": null,
   "metadata": {},
   "outputs": [],
   "source": []
  }
 ],
 "metadata": {
  "kernelspec": {
   "display_name": "Python 3",
   "language": "python",
   "name": "python3"
  },
  "language_info": {
   "codemirror_mode": {
    "name": "ipython",
    "version": 3
   },
   "file_extension": ".py",
   "mimetype": "text/x-python",
   "name": "python",
   "nbconvert_exporter": "python",
   "pygments_lexer": "ipython3",
   "version": "3.7.3"
  }
 },
 "nbformat": 4,
 "nbformat_minor": 2
}
